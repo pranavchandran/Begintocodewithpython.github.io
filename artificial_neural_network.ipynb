{
  "nbformat": 4,
  "nbformat_minor": 0,
  "metadata": {
    "colab": {
      "name": "artificial_neural_network.ipynb",
      "provenance": [],
      "collapsed_sections": [],
      "include_colab_link": true
    },
    "kernelspec": {
      "name": "python3",
      "display_name": "Python 3"
    }
  },
  "cells": [
    {
      "cell_type": "markdown",
      "metadata": {
        "id": "view-in-github",
        "colab_type": "text"
      },
      "source": [
        "<a href=\"https://colab.research.google.com/github/pranavchandran/Begintocodewithpython.github.io/blob/master/artificial_neural_network.ipynb\" target=\"_parent\"><img src=\"https://colab.research.google.com/assets/colab-badge.svg\" alt=\"Open In Colab\"/></a>"
      ]
    },
    {
      "cell_type": "markdown",
      "metadata": {
        "id": "lP6JLo1tGNBg",
        "colab_type": "text"
      },
      "source": [
        "# Artificial Neural Network"
      ]
    },
    {
      "cell_type": "markdown",
      "metadata": {
        "id": "gWZyYmS_UE_L",
        "colab_type": "text"
      },
      "source": [
        "### Importing the libraries"
      ]
    },
    {
      "cell_type": "code",
      "metadata": {
        "id": "VFzeqJfcDAbB",
        "colab_type": "code",
        "colab": {}
      },
      "source": [
        "import numpy as np\n",
        "import pandas as pd\n",
        "import tensorflow as tf"
      ],
      "execution_count": 21,
      "outputs": []
    },
    {
      "cell_type": "code",
      "metadata": {
        "id": "XWgGI_gSDRMx",
        "colab_type": "code",
        "colab": {
          "base_uri": "https://localhost:8080/",
          "height": 35
        },
        "outputId": "3d5fccb6-51fb-4bd4-82ef-0dd247b60bd6"
      },
      "source": [
        "tf.__version__"
      ],
      "execution_count": 22,
      "outputs": [
        {
          "output_type": "execute_result",
          "data": {
            "application/vnd.google.colaboratory.intrinsic+json": {
              "type": "string"
            },
            "text/plain": [
              "'2.3.0'"
            ]
          },
          "metadata": {
            "tags": []
          },
          "execution_count": 22
        }
      ]
    },
    {
      "cell_type": "markdown",
      "metadata": {
        "id": "1E0Q3aoKUCRX",
        "colab_type": "text"
      },
      "source": [
        "## Part 1 - Data Preprocessing"
      ]
    },
    {
      "cell_type": "markdown",
      "metadata": {
        "id": "cKWAkFVGUU0Z",
        "colab_type": "text"
      },
      "source": [
        "### Importing the dataset"
      ]
    },
    {
      "cell_type": "code",
      "metadata": {
        "id": "dwlMT0UUD341",
        "colab_type": "code",
        "colab": {}
      },
      "source": [
        "dataset = pd.read_csv('Churn_Modelling.csv')\n",
        "X = dataset.iloc[:,3:-1].values\n",
        "y = dataset.iloc[:,-1].values"
      ],
      "execution_count": 23,
      "outputs": []
    },
    {
      "cell_type": "code",
      "metadata": {
        "id": "el-L_a6_FPrP",
        "colab_type": "code",
        "colab": {
          "base_uri": "https://localhost:8080/",
          "height": 136
        },
        "outputId": "31074d92-c8d7-4c14-adf3-ff035b62cf14"
      },
      "source": [
        "print(X)"
      ],
      "execution_count": 24,
      "outputs": [
        {
          "output_type": "stream",
          "text": [
            "[[619 'France' 'Female' ... 1 1 101348.88]\n",
            " [608 'Spain' 'Female' ... 0 1 112542.58]\n",
            " [502 'France' 'Female' ... 1 0 113931.57]\n",
            " ...\n",
            " [709 'France' 'Female' ... 0 1 42085.58]\n",
            " [772 'Germany' 'Male' ... 1 0 92888.52]\n",
            " [792 'France' 'Female' ... 1 0 38190.78]]\n"
          ],
          "name": "stdout"
        }
      ]
    },
    {
      "cell_type": "code",
      "metadata": {
        "id": "6dMjIhBxFrdl",
        "colab_type": "code",
        "colab": {
          "base_uri": "https://localhost:8080/",
          "height": 34
        },
        "outputId": "2874099e-7e99-4fab-b4ed-45b90a730df3"
      },
      "source": [
        "print(y)"
      ],
      "execution_count": 25,
      "outputs": [
        {
          "output_type": "stream",
          "text": [
            "[1 0 1 ... 1 1 0]\n"
          ],
          "name": "stdout"
        }
      ]
    },
    {
      "cell_type": "markdown",
      "metadata": {
        "id": "N6bQ0UgSU-NJ",
        "colab_type": "text"
      },
      "source": [
        "### Encoding categorical data"
      ]
    },
    {
      "cell_type": "markdown",
      "metadata": {
        "id": "le5MJreAbW52",
        "colab_type": "text"
      },
      "source": [
        "Label Encoding the \"Gender\" column"
      ]
    },
    {
      "cell_type": "code",
      "metadata": {
        "id": "iK4pEMFGG4iE",
        "colab_type": "code",
        "colab": {}
      },
      "source": [
        "from sklearn.preprocessing import LabelEncoder\n",
        "le = LabelEncoder()\n",
        "X[:,2] = le.fit_transform(X[:,2])"
      ],
      "execution_count": 26,
      "outputs": []
    },
    {
      "cell_type": "code",
      "metadata": {
        "id": "H3byn_STIgv7",
        "colab_type": "code",
        "colab": {
          "base_uri": "https://localhost:8080/",
          "height": 136
        },
        "outputId": "a4893f60-ce09-4187-8d66-b720eef2f4a5"
      },
      "source": [
        "print(X)"
      ],
      "execution_count": 27,
      "outputs": [
        {
          "output_type": "stream",
          "text": [
            "[[619 'France' 0 ... 1 1 101348.88]\n",
            " [608 'Spain' 0 ... 0 1 112542.58]\n",
            " [502 'France' 0 ... 1 0 113931.57]\n",
            " ...\n",
            " [709 'France' 0 ... 0 1 42085.58]\n",
            " [772 'Germany' 1 ... 1 0 92888.52]\n",
            " [792 'France' 0 ... 1 0 38190.78]]\n"
          ],
          "name": "stdout"
        }
      ]
    },
    {
      "cell_type": "markdown",
      "metadata": {
        "id": "CUxGZezpbMcb",
        "colab_type": "text"
      },
      "source": [
        "One Hot Encoding the \"Geography\" column"
      ]
    },
    {
      "cell_type": "code",
      "metadata": {
        "id": "iNpK4rzSImM8",
        "colab_type": "code",
        "colab": {}
      },
      "source": [
        "from sklearn.compose import  ColumnTransformer\n",
        "from sklearn.preprocessing import OneHotEncoder\n",
        "ct = ColumnTransformer(transformers=[('encoder',OneHotEncoder(),[1])],remainder='passthrough')\n",
        "X = np.array(ct.fit_transform(X))"
      ],
      "execution_count": 28,
      "outputs": []
    },
    {
      "cell_type": "code",
      "metadata": {
        "id": "AiQCUnDkJ3BO",
        "colab_type": "code",
        "colab": {
          "base_uri": "https://localhost:8080/",
          "height": 136
        },
        "outputId": "000d783a-0b75-4154-d22c-82c84236d6ac"
      },
      "source": [
        "print(X)"
      ],
      "execution_count": 29,
      "outputs": [
        {
          "output_type": "stream",
          "text": [
            "[[1.0 0.0 0.0 ... 1 1 101348.88]\n",
            " [0.0 0.0 1.0 ... 0 1 112542.58]\n",
            " [1.0 0.0 0.0 ... 1 0 113931.57]\n",
            " ...\n",
            " [1.0 0.0 0.0 ... 0 1 42085.58]\n",
            " [0.0 1.0 0.0 ... 1 0 92888.52]\n",
            " [1.0 0.0 0.0 ... 1 0 38190.78]]\n"
          ],
          "name": "stdout"
        }
      ]
    },
    {
      "cell_type": "markdown",
      "metadata": {
        "id": "vHol938cW8zd",
        "colab_type": "text"
      },
      "source": [
        "### Splitting the dataset into the Training set and Test set"
      ]
    },
    {
      "cell_type": "code",
      "metadata": {
        "id": "ChO90L60KHOr",
        "colab_type": "code",
        "colab": {}
      },
      "source": [
        "from sklearn.model_selection import train_test_split\n",
        "X_train, X_test, y_train, y_test = train_test_split(X, y, test_size = 0.2, random_state = 0)"
      ],
      "execution_count": 30,
      "outputs": []
    },
    {
      "cell_type": "markdown",
      "metadata": {
        "id": "RE_FcHyfV3TQ",
        "colab_type": "text"
      },
      "source": [
        "### Feature Scaling"
      ]
    },
    {
      "cell_type": "code",
      "metadata": {
        "id": "roGm_melK0hY",
        "colab_type": "code",
        "colab": {}
      },
      "source": [
        "from sklearn.preprocessing import StandardScaler\n",
        "sc = StandardScaler()\n",
        "X_train = sc.fit_transform(X_train)\n",
        "X_test = sc.transform(X_test)"
      ],
      "execution_count": 39,
      "outputs": []
    },
    {
      "cell_type": "markdown",
      "metadata": {
        "id": "-zfEzkRVXIwF",
        "colab_type": "text"
      },
      "source": [
        "## Part 2 - Building the ANN"
      ]
    },
    {
      "cell_type": "markdown",
      "metadata": {
        "id": "KvdeScabXtlB",
        "colab_type": "text"
      },
      "source": [
        "### Initializing the ANN"
      ]
    },
    {
      "cell_type": "code",
      "metadata": {
        "id": "hWPlTnhJUszw",
        "colab_type": "code",
        "colab": {}
      },
      "source": [
        "ann = tf.keras.models.Sequential()"
      ],
      "execution_count": 32,
      "outputs": []
    },
    {
      "cell_type": "markdown",
      "metadata": {
        "id": "rP6urV6SX7kS",
        "colab_type": "text"
      },
      "source": [
        "### Adding the input layer and the first hidden layer"
      ]
    },
    {
      "cell_type": "code",
      "metadata": {
        "id": "fiJ5GEJuWmUb",
        "colab_type": "code",
        "colab": {}
      },
      "source": [
        "ann.add(tf.keras.layers.Dense(units=6,activation='relu'))"
      ],
      "execution_count": 33,
      "outputs": []
    },
    {
      "cell_type": "markdown",
      "metadata": {
        "id": "BELWAc_8YJze",
        "colab_type": "text"
      },
      "source": [
        "### Adding the second hidden layer"
      ]
    },
    {
      "cell_type": "code",
      "metadata": {
        "id": "qWATnGFCW7Aq",
        "colab_type": "code",
        "colab": {}
      },
      "source": [
        "ann.add(tf.keras.layers.Dense(units=6,activation='relu'))"
      ],
      "execution_count": 34,
      "outputs": []
    },
    {
      "cell_type": "markdown",
      "metadata": {
        "id": "OyNEe6RXYcU4",
        "colab_type": "text"
      },
      "source": [
        "### Adding the output layer"
      ]
    },
    {
      "cell_type": "code",
      "metadata": {
        "id": "PLJED27wXHzv",
        "colab_type": "code",
        "colab": {}
      },
      "source": [
        "ann.add(tf.keras.layers.Dense(units=1,activation='sigmoid'))"
      ],
      "execution_count": 35,
      "outputs": []
    },
    {
      "cell_type": "markdown",
      "metadata": {
        "id": "JT4u2S1_Y4WG",
        "colab_type": "text"
      },
      "source": [
        "## Part 3 - Training the ANN"
      ]
    },
    {
      "cell_type": "markdown",
      "metadata": {
        "id": "8GWlJChhY_ZI",
        "colab_type": "text"
      },
      "source": [
        "### Compiling the ANN"
      ]
    },
    {
      "cell_type": "code",
      "metadata": {
        "id": "Utrjf8vaekU9",
        "colab_type": "code",
        "colab": {}
      },
      "source": [
        "ann.compile(optimizer = 'adam',loss = 'binary_crossentropy',metrics=['accuracy'])"
      ],
      "execution_count": 36,
      "outputs": []
    },
    {
      "cell_type": "markdown",
      "metadata": {
        "id": "0QR_G5u7ZLSM",
        "colab_type": "text"
      },
      "source": [
        "### Training the ANN on the Training set"
      ]
    },
    {
      "cell_type": "code",
      "metadata": {
        "id": "JALrZLeNgInn",
        "colab_type": "code",
        "colab": {
          "base_uri": "https://localhost:8080/",
          "height": 1000
        },
        "outputId": "815e1146-f894-449b-edf2-f6c3a461a2d5"
      },
      "source": [
        "ann.fit(X_train,y_train,batch_size = 32,epochs = 100)"
      ],
      "execution_count": 37,
      "outputs": [
        {
          "output_type": "stream",
          "text": [
            "Epoch 1/100\n",
            "250/250 [==============================] - 0s 880us/step - loss: 0.5564 - accuracy: 0.7312\n",
            "Epoch 2/100\n",
            "250/250 [==============================] - 0s 984us/step - loss: 0.4669 - accuracy: 0.7958\n",
            "Epoch 3/100\n",
            "250/250 [==============================] - 0s 846us/step - loss: 0.4408 - accuracy: 0.7996\n",
            "Epoch 4/100\n",
            "250/250 [==============================] - 0s 883us/step - loss: 0.4271 - accuracy: 0.8131\n",
            "Epoch 5/100\n",
            "250/250 [==============================] - 0s 895us/step - loss: 0.4192 - accuracy: 0.8213\n",
            "Epoch 6/100\n",
            "250/250 [==============================] - 0s 902us/step - loss: 0.4135 - accuracy: 0.8245\n",
            "Epoch 7/100\n",
            "250/250 [==============================] - 0s 866us/step - loss: 0.4088 - accuracy: 0.8270\n",
            "Epoch 8/100\n",
            "250/250 [==============================] - 0s 962us/step - loss: 0.4045 - accuracy: 0.8270\n",
            "Epoch 9/100\n",
            "250/250 [==============================] - 0s 864us/step - loss: 0.4008 - accuracy: 0.8275\n",
            "Epoch 10/100\n",
            "250/250 [==============================] - 0s 903us/step - loss: 0.3969 - accuracy: 0.8267\n",
            "Epoch 11/100\n",
            "250/250 [==============================] - 0s 910us/step - loss: 0.3929 - accuracy: 0.8281\n",
            "Epoch 12/100\n",
            "250/250 [==============================] - 0s 886us/step - loss: 0.3894 - accuracy: 0.8285\n",
            "Epoch 13/100\n",
            "250/250 [==============================] - 0s 847us/step - loss: 0.3859 - accuracy: 0.8289\n",
            "Epoch 14/100\n",
            "250/250 [==============================] - 0s 878us/step - loss: 0.3829 - accuracy: 0.8303\n",
            "Epoch 15/100\n",
            "250/250 [==============================] - 0s 905us/step - loss: 0.3801 - accuracy: 0.8304\n",
            "Epoch 16/100\n",
            "250/250 [==============================] - 0s 918us/step - loss: 0.3777 - accuracy: 0.8298\n",
            "Epoch 17/100\n",
            "250/250 [==============================] - 0s 870us/step - loss: 0.3752 - accuracy: 0.8357\n",
            "Epoch 18/100\n",
            "250/250 [==============================] - 0s 865us/step - loss: 0.3729 - accuracy: 0.8421\n",
            "Epoch 19/100\n",
            "250/250 [==============================] - 0s 922us/step - loss: 0.3708 - accuracy: 0.8420\n",
            "Epoch 20/100\n",
            "250/250 [==============================] - 0s 930us/step - loss: 0.3691 - accuracy: 0.8420\n",
            "Epoch 21/100\n",
            "250/250 [==============================] - 0s 882us/step - loss: 0.3674 - accuracy: 0.8432\n",
            "Epoch 22/100\n",
            "250/250 [==============================] - 0s 1ms/step - loss: 0.3656 - accuracy: 0.8443\n",
            "Epoch 23/100\n",
            "250/250 [==============================] - 0s 1ms/step - loss: 0.3644 - accuracy: 0.8440\n",
            "Epoch 24/100\n",
            "250/250 [==============================] - 0s 892us/step - loss: 0.3631 - accuracy: 0.8455\n",
            "Epoch 25/100\n",
            "250/250 [==============================] - 0s 903us/step - loss: 0.3618 - accuracy: 0.8438\n",
            "Epoch 26/100\n",
            "250/250 [==============================] - 0s 981us/step - loss: 0.3609 - accuracy: 0.8468\n",
            "Epoch 27/100\n",
            "250/250 [==============================] - 0s 1ms/step - loss: 0.3598 - accuracy: 0.8479\n",
            "Epoch 28/100\n",
            "250/250 [==============================] - 0s 1ms/step - loss: 0.3587 - accuracy: 0.8480\n",
            "Epoch 29/100\n",
            "250/250 [==============================] - 0s 966us/step - loss: 0.3575 - accuracy: 0.8489\n",
            "Epoch 30/100\n",
            "250/250 [==============================] - 0s 889us/step - loss: 0.3568 - accuracy: 0.8490\n",
            "Epoch 31/100\n",
            "250/250 [==============================] - 0s 882us/step - loss: 0.3557 - accuracy: 0.8501\n",
            "Epoch 32/100\n",
            "250/250 [==============================] - 0s 941us/step - loss: 0.3545 - accuracy: 0.8516\n",
            "Epoch 33/100\n",
            "250/250 [==============================] - 0s 869us/step - loss: 0.3533 - accuracy: 0.8515\n",
            "Epoch 34/100\n",
            "250/250 [==============================] - 0s 855us/step - loss: 0.3529 - accuracy: 0.8510\n",
            "Epoch 35/100\n",
            "250/250 [==============================] - 0s 923us/step - loss: 0.3515 - accuracy: 0.8529\n",
            "Epoch 36/100\n",
            "250/250 [==============================] - 0s 905us/step - loss: 0.3497 - accuracy: 0.8543\n",
            "Epoch 37/100\n",
            "250/250 [==============================] - 0s 922us/step - loss: 0.3486 - accuracy: 0.8550\n",
            "Epoch 38/100\n",
            "250/250 [==============================] - 0s 887us/step - loss: 0.3478 - accuracy: 0.8554\n",
            "Epoch 39/100\n",
            "250/250 [==============================] - 0s 873us/step - loss: 0.3468 - accuracy: 0.8550\n",
            "Epoch 40/100\n",
            "250/250 [==============================] - 0s 887us/step - loss: 0.3466 - accuracy: 0.8570\n",
            "Epoch 41/100\n",
            "250/250 [==============================] - 0s 949us/step - loss: 0.3451 - accuracy: 0.8569\n",
            "Epoch 42/100\n",
            "250/250 [==============================] - 0s 856us/step - loss: 0.3451 - accuracy: 0.8564\n",
            "Epoch 43/100\n",
            "250/250 [==============================] - 0s 877us/step - loss: 0.3442 - accuracy: 0.8558\n",
            "Epoch 44/100\n",
            "250/250 [==============================] - 0s 930us/step - loss: 0.3439 - accuracy: 0.8594\n",
            "Epoch 45/100\n",
            "250/250 [==============================] - 0s 909us/step - loss: 0.3432 - accuracy: 0.8569\n",
            "Epoch 46/100\n",
            "250/250 [==============================] - 0s 890us/step - loss: 0.3422 - accuracy: 0.8595\n",
            "Epoch 47/100\n",
            "250/250 [==============================] - 0s 892us/step - loss: 0.3422 - accuracy: 0.8604\n",
            "Epoch 48/100\n",
            "250/250 [==============================] - 0s 875us/step - loss: 0.3418 - accuracy: 0.8601\n",
            "Epoch 49/100\n",
            "250/250 [==============================] - 0s 945us/step - loss: 0.3415 - accuracy: 0.8589\n",
            "Epoch 50/100\n",
            "250/250 [==============================] - 0s 892us/step - loss: 0.3409 - accuracy: 0.8599\n",
            "Epoch 51/100\n",
            "250/250 [==============================] - 0s 922us/step - loss: 0.3413 - accuracy: 0.8610\n",
            "Epoch 52/100\n",
            "250/250 [==============================] - 0s 875us/step - loss: 0.3405 - accuracy: 0.8593\n",
            "Epoch 53/100\n",
            "250/250 [==============================] - 0s 897us/step - loss: 0.3404 - accuracy: 0.8590\n",
            "Epoch 54/100\n",
            "250/250 [==============================] - 0s 906us/step - loss: 0.3398 - accuracy: 0.8611\n",
            "Epoch 55/100\n",
            "250/250 [==============================] - 0s 870us/step - loss: 0.3403 - accuracy: 0.8610\n",
            "Epoch 56/100\n",
            "250/250 [==============================] - 0s 857us/step - loss: 0.3397 - accuracy: 0.8624\n",
            "Epoch 57/100\n",
            "250/250 [==============================] - 0s 889us/step - loss: 0.3393 - accuracy: 0.8618\n",
            "Epoch 58/100\n",
            "250/250 [==============================] - 0s 954us/step - loss: 0.3396 - accuracy: 0.8616\n",
            "Epoch 59/100\n",
            "250/250 [==============================] - 0s 895us/step - loss: 0.3400 - accuracy: 0.8606\n",
            "Epoch 60/100\n",
            "250/250 [==============================] - 0s 921us/step - loss: 0.3395 - accuracy: 0.8586\n",
            "Epoch 61/100\n",
            "250/250 [==============================] - 0s 880us/step - loss: 0.3396 - accuracy: 0.8602\n",
            "Epoch 62/100\n",
            "250/250 [==============================] - 0s 904us/step - loss: 0.3389 - accuracy: 0.8601\n",
            "Epoch 63/100\n",
            "250/250 [==============================] - 0s 895us/step - loss: 0.3386 - accuracy: 0.8609\n",
            "Epoch 64/100\n",
            "250/250 [==============================] - 0s 869us/step - loss: 0.3384 - accuracy: 0.8609\n",
            "Epoch 65/100\n",
            "250/250 [==============================] - 0s 893us/step - loss: 0.3386 - accuracy: 0.8616\n",
            "Epoch 66/100\n",
            "250/250 [==============================] - 0s 872us/step - loss: 0.3384 - accuracy: 0.8616\n",
            "Epoch 67/100\n",
            "250/250 [==============================] - 0s 890us/step - loss: 0.3381 - accuracy: 0.8594\n",
            "Epoch 68/100\n",
            "250/250 [==============================] - 0s 881us/step - loss: 0.3383 - accuracy: 0.8596\n",
            "Epoch 69/100\n",
            "250/250 [==============================] - 0s 870us/step - loss: 0.3377 - accuracy: 0.8611\n",
            "Epoch 70/100\n",
            "250/250 [==============================] - 0s 882us/step - loss: 0.3375 - accuracy: 0.8601\n",
            "Epoch 71/100\n",
            "250/250 [==============================] - 0s 888us/step - loss: 0.3373 - accuracy: 0.8645\n",
            "Epoch 72/100\n",
            "250/250 [==============================] - 0s 942us/step - loss: 0.3371 - accuracy: 0.8624\n",
            "Epoch 73/100\n",
            "250/250 [==============================] - 0s 866us/step - loss: 0.3372 - accuracy: 0.8611\n",
            "Epoch 74/100\n",
            "250/250 [==============================] - 0s 870us/step - loss: 0.3368 - accuracy: 0.8604\n",
            "Epoch 75/100\n",
            "250/250 [==============================] - 0s 865us/step - loss: 0.3374 - accuracy: 0.8601\n",
            "Epoch 76/100\n",
            "250/250 [==============================] - 0s 899us/step - loss: 0.3376 - accuracy: 0.8615\n",
            "Epoch 77/100\n",
            "250/250 [==============================] - 0s 878us/step - loss: 0.3368 - accuracy: 0.8615\n",
            "Epoch 78/100\n",
            "250/250 [==============================] - 0s 858us/step - loss: 0.3368 - accuracy: 0.8604\n",
            "Epoch 79/100\n",
            "250/250 [==============================] - 0s 873us/step - loss: 0.3361 - accuracy: 0.8589\n",
            "Epoch 80/100\n",
            "250/250 [==============================] - 0s 870us/step - loss: 0.3365 - accuracy: 0.8605\n",
            "Epoch 81/100\n",
            "250/250 [==============================] - 0s 903us/step - loss: 0.3360 - accuracy: 0.8627\n",
            "Epoch 82/100\n",
            "250/250 [==============================] - 0s 854us/step - loss: 0.3362 - accuracy: 0.8619\n",
            "Epoch 83/100\n",
            "250/250 [==============================] - 0s 956us/step - loss: 0.3358 - accuracy: 0.8600\n",
            "Epoch 84/100\n",
            "250/250 [==============================] - 0s 961us/step - loss: 0.3356 - accuracy: 0.8619\n",
            "Epoch 85/100\n",
            "250/250 [==============================] - 0s 894us/step - loss: 0.3362 - accuracy: 0.8609\n",
            "Epoch 86/100\n",
            "250/250 [==============================] - 0s 915us/step - loss: 0.3359 - accuracy: 0.8619\n",
            "Epoch 87/100\n",
            "250/250 [==============================] - 0s 861us/step - loss: 0.3360 - accuracy: 0.8615\n",
            "Epoch 88/100\n",
            "250/250 [==============================] - 0s 902us/step - loss: 0.3360 - accuracy: 0.8629\n",
            "Epoch 89/100\n",
            "250/250 [==============================] - 0s 926us/step - loss: 0.3354 - accuracy: 0.8604\n",
            "Epoch 90/100\n",
            "250/250 [==============================] - 0s 935us/step - loss: 0.3351 - accuracy: 0.8641\n",
            "Epoch 91/100\n",
            "250/250 [==============================] - 0s 844us/step - loss: 0.3353 - accuracy: 0.8619\n",
            "Epoch 92/100\n",
            "250/250 [==============================] - 0s 909us/step - loss: 0.3357 - accuracy: 0.8614\n",
            "Epoch 93/100\n",
            "250/250 [==============================] - 0s 859us/step - loss: 0.3358 - accuracy: 0.8608\n",
            "Epoch 94/100\n",
            "250/250 [==============================] - 0s 890us/step - loss: 0.3351 - accuracy: 0.8618\n",
            "Epoch 95/100\n",
            "250/250 [==============================] - 0s 895us/step - loss: 0.3354 - accuracy: 0.8630\n",
            "Epoch 96/100\n",
            "250/250 [==============================] - 0s 881us/step - loss: 0.3346 - accuracy: 0.8618\n",
            "Epoch 97/100\n",
            "250/250 [==============================] - 0s 869us/step - loss: 0.3354 - accuracy: 0.8625\n",
            "Epoch 98/100\n",
            "250/250 [==============================] - 0s 925us/step - loss: 0.3346 - accuracy: 0.8625\n",
            "Epoch 99/100\n",
            "250/250 [==============================] - 0s 865us/step - loss: 0.3346 - accuracy: 0.8622\n",
            "Epoch 100/100\n",
            "250/250 [==============================] - 0s 857us/step - loss: 0.3348 - accuracy: 0.8606\n"
          ],
          "name": "stdout"
        },
        {
          "output_type": "execute_result",
          "data": {
            "text/plain": [
              "<tensorflow.python.keras.callbacks.History at 0x7efed1d695c0>"
            ]
          },
          "metadata": {
            "tags": []
          },
          "execution_count": 37
        }
      ]
    },
    {
      "cell_type": "markdown",
      "metadata": {
        "id": "tJj5k2MxZga3",
        "colab_type": "text"
      },
      "source": [
        "## Part 4 - Making the predictions and evaluating the model"
      ]
    },
    {
      "cell_type": "markdown",
      "metadata": {
        "id": "84QFoqGYeXHL",
        "colab_type": "text"
      },
      "source": [
        "### Predicting the result of a single observation"
      ]
    },
    {
      "cell_type": "markdown",
      "metadata": {
        "id": "CGRo3eacgDdC",
        "colab_type": "text"
      },
      "source": [
        "**Homework**\n",
        "\n",
        "Use our ANN model to predict if the customer with the following informations will leave the bank: \n",
        "\n",
        "Geography: France\n",
        "\n",
        "Credit Score: 600\n",
        "\n",
        "Gender: Male\n",
        "\n",
        "Age: 40 years old\n",
        "\n",
        "Tenure: 3 years\n",
        "\n",
        "Balance: \\$ 60000\n",
        "\n",
        "Number of Products: 2\n",
        "\n",
        "Does this customer have a credit card? Yes\n",
        "\n",
        "Is this customer an Active Member: Yes\n",
        "\n",
        "Estimated Salary: \\$ 50000\n",
        "\n",
        "So, should we say goodbye to that customer?"
      ]
    },
    {
      "cell_type": "markdown",
      "metadata": {
        "id": "ZhU1LTgPg-kH",
        "colab_type": "text"
      },
      "source": [
        "**Solution**\n",
        "**1,0,0 is France look in hot encoding**"
      ]
    },
    {
      "cell_type": "code",
      "metadata": {
        "id": "BEb9iMWxgLPf",
        "colab_type": "code",
        "colab": {
          "base_uri": "https://localhost:8080/",
          "height": 34
        },
        "outputId": "8c8091c4-ba26-46e7-c702-382ba9425fa3"
      },
      "source": [
        "print(ann.predict(sc.transform([[1,0,0,600,1,40,3,6000,2,1,1,50000]])) > 0.5)"
      ],
      "execution_count": 41,
      "outputs": [
        {
          "output_type": "stream",
          "text": [
            "[[False]]\n"
          ],
          "name": "stdout"
        }
      ]
    },
    {
      "cell_type": "markdown",
      "metadata": {
        "id": "wGjx94g2n7OV",
        "colab_type": "text"
      },
      "source": [
        "Therefore, our ANN model predicts that this customer stays in the bank!\n",
        "\n",
        "**Important note 1:** Notice that the values of the features were all input in a double pair of square brackets. That's because the \"predict\" method always expects a 2D array as the format of its inputs. And putting our values into a double pair of square brackets makes the input exactly a 2D array.\n",
        "\n",
        "**Important note 2:** Notice also that the \"France\" country was not input as a string in the last column but as \"1, 0, 0\" in the first three columns. That's because of course the predict method expects the one-hot-encoded values of the state, and as we see in the first row of the matrix of features X, \"France\" was encoded as \"1, 0, 0\". And be careful to include these values in the first three columns, because the dummy variables are always created in the first columns."
      ]
    },
    {
      "cell_type": "markdown",
      "metadata": {
        "id": "u7yx47jPZt11",
        "colab_type": "text"
      },
      "source": [
        "### Predicting the Test set results"
      ]
    },
    {
      "cell_type": "code",
      "metadata": {
        "id": "JguybBOWmgzT",
        "colab_type": "code",
        "colab": {
          "base_uri": "https://localhost:8080/",
          "height": 136
        },
        "outputId": "fdc168d8-69f0-40dd-f33c-9011512187a7"
      },
      "source": [
        "y_pred = ann.predict(X_test)\n",
        "y_pred = (y_pred > 0.5)\n",
        "print(np.concatenate((y_pred.reshape(len(y_pred),1), y_test.reshape(len(y_test),1)),1))"
      ],
      "execution_count": 42,
      "outputs": [
        {
          "output_type": "stream",
          "text": [
            "[[0 0]\n",
            " [0 1]\n",
            " [0 0]\n",
            " ...\n",
            " [0 0]\n",
            " [0 0]\n",
            " [0 0]]\n"
          ],
          "name": "stdout"
        }
      ]
    },
    {
      "cell_type": "markdown",
      "metadata": {
        "id": "o0oyfLWoaEGw",
        "colab_type": "text"
      },
      "source": [
        "### Making the Confusion Matrix"
      ]
    },
    {
      "cell_type": "code",
      "metadata": {
        "id": "MyoKn2yCnP5g",
        "colab_type": "code",
        "colab": {
          "base_uri": "https://localhost:8080/",
          "height": 68
        },
        "outputId": "e96f5735-b25e-4eb0-b0d8-dbc7661f0e0c"
      },
      "source": [
        "from sklearn.metrics import confusion_matrix, accuracy_score\n",
        "cm = confusion_matrix(y_test, y_pred)\n",
        "print(cm)\n",
        "accuracy_score(y_test, y_pred)"
      ],
      "execution_count": 43,
      "outputs": [
        {
          "output_type": "stream",
          "text": [
            "[[1520   75]\n",
            " [ 196  209]]\n"
          ],
          "name": "stdout"
        },
        {
          "output_type": "execute_result",
          "data": {
            "text/plain": [
              "0.8645"
            ]
          },
          "metadata": {
            "tags": []
          },
          "execution_count": 43
        }
      ]
    }
  ]
}