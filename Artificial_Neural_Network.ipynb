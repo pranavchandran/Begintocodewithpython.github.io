{
  "nbformat": 4,
  "nbformat_minor": 0,
  "metadata": {
    "colab": {
      "name": "Artificial Neural Network",
      "provenance": [],
      "collapsed_sections": [],
      "include_colab_link": true
    },
    "kernelspec": {
      "name": "python3",
      "display_name": "Python 3"
    }
  },
  "cells": [
    {
      "cell_type": "markdown",
      "metadata": {
        "id": "view-in-github",
        "colab_type": "text"
      },
      "source": [
        "<a href=\"https://colab.research.google.com/github/pranavchandran/Begintocodewithpython.github.io/blob/master/Artificial_Neural_Network.ipynb\" target=\"_parent\"><img src=\"https://colab.research.google.com/assets/colab-badge.svg\" alt=\"Open In Colab\"/></a>"
      ]
    },
    {
      "cell_type": "markdown",
      "metadata": {
        "id": "3cbb7fRy-eyr",
        "colab_type": "text"
      },
      "source": [
        "# Artificial Neural Network"
      ]
    },
    {
      "cell_type": "markdown",
      "metadata": {
        "id": "8sNDnxE2-pwE",
        "colab_type": "text"
      },
      "source": [
        "### Importing the libraries"
      ]
    },
    {
      "cell_type": "code",
      "metadata": {
        "id": "BUwL7KCKp40s",
        "colab_type": "code",
        "colab": {}
      },
      "source": [
        "import numpy as np\n",
        "import pandas as pd\n",
        "import tensorflow as tf"
      ],
      "execution_count": 12,
      "outputs": []
    },
    {
      "cell_type": "code",
      "metadata": {
        "id": "v8qP1qFfqPsX",
        "colab_type": "code",
        "colab": {
          "base_uri": "https://localhost:8080/",
          "height": 35
        },
        "outputId": "4337ed32-c259-4442-ae9c-48411eb41cdf"
      },
      "source": [
        "tf.__version__"
      ],
      "execution_count": 13,
      "outputs": [
        {
          "output_type": "execute_result",
          "data": {
            "application/vnd.google.colaboratory.intrinsic+json": {
              "type": "string"
            },
            "text/plain": [
              "'2.3.0'"
            ]
          },
          "metadata": {
            "tags": []
          },
          "execution_count": 13
        }
      ]
    },
    {
      "cell_type": "markdown",
      "metadata": {
        "id": "AG3FQEch-yuA",
        "colab_type": "text"
      },
      "source": [
        "## Part 1 - Data Preprocessing"
      ]
    },
    {
      "cell_type": "markdown",
      "metadata": {
        "id": "-4zq8Mza_D9O",
        "colab_type": "text"
      },
      "source": [
        "### Importing the dataset"
      ]
    },
    {
      "cell_type": "code",
      "metadata": {
        "id": "5ucdgcg0osJp",
        "colab_type": "code",
        "colab": {}
      },
      "source": [
        "dataset = pd.read_excel('Folds5x2_pp.xlsx')\n",
        "X = dataset.iloc[:,:-1].values\n",
        "y = dataset.iloc[:,-1].values"
      ],
      "execution_count": 14,
      "outputs": []
    },
    {
      "cell_type": "code",
      "metadata": {
        "id": "S3x1b4iXqIiu",
        "colab_type": "code",
        "colab": {
          "base_uri": "https://localhost:8080/",
          "height": 136
        },
        "outputId": "99c040e9-e804-4f82-a8f3-6dd0380bf188"
      },
      "source": [
        "X"
      ],
      "execution_count": 15,
      "outputs": [
        {
          "output_type": "execute_result",
          "data": {
            "text/plain": [
              "array([[  14.96,   41.76, 1024.07,   73.17],\n",
              "       [  25.18,   62.96, 1020.04,   59.08],\n",
              "       [   5.11,   39.4 , 1012.16,   92.14],\n",
              "       ...,\n",
              "       [  31.32,   74.33, 1012.92,   36.48],\n",
              "       [  24.48,   69.45, 1013.86,   62.39],\n",
              "       [  21.6 ,   62.52, 1017.23,   67.87]])"
            ]
          },
          "metadata": {
            "tags": []
          },
          "execution_count": 15
        }
      ]
    },
    {
      "cell_type": "markdown",
      "metadata": {
        "id": "VC6omXel_Up0",
        "colab_type": "text"
      },
      "source": [
        "### Splitting the dataset into the Training set and Test set"
      ]
    },
    {
      "cell_type": "code",
      "metadata": {
        "id": "8rU0ItgSrGDY",
        "colab_type": "code",
        "colab": {}
      },
      "source": [
        "from sklearn.model_selection import train_test_split\n",
        "X_train, X_test, y_train, y_test = train_test_split(X, y, test_size = 0.2, random_state = 0)"
      ],
      "execution_count": 16,
      "outputs": []
    },
    {
      "cell_type": "markdown",
      "metadata": {
        "id": "_mSLlAT9_eyI",
        "colab_type": "text"
      },
      "source": [
        "## Part 2 - Building the ANN"
      ]
    },
    {
      "cell_type": "markdown",
      "metadata": {
        "id": "CsBULd_f_wLY",
        "colab_type": "text"
      },
      "source": [
        "### Initializing the ANN"
      ]
    },
    {
      "cell_type": "code",
      "metadata": {
        "id": "MYBV4hpyuCDs",
        "colab_type": "code",
        "colab": {}
      },
      "source": [
        "ann = tf.keras.models.Sequential()"
      ],
      "execution_count": 17,
      "outputs": []
    },
    {
      "cell_type": "markdown",
      "metadata": {
        "id": "iitAFJS_ABUn",
        "colab_type": "text"
      },
      "source": [
        "### Adding the input layer and the first hidden layer"
      ]
    },
    {
      "cell_type": "code",
      "metadata": {
        "id": "0xOazod-vtjO",
        "colab_type": "code",
        "colab": {}
      },
      "source": [
        "ann.add(tf.keras.layers.Dense(units=6,activation='relu'))"
      ],
      "execution_count": 18,
      "outputs": []
    },
    {
      "cell_type": "markdown",
      "metadata": {
        "id": "-lb4kK_wAKbs",
        "colab_type": "text"
      },
      "source": [
        "### Adding the second hidden layer"
      ]
    },
    {
      "cell_type": "code",
      "metadata": {
        "id": "Q-hEvbFdxALc",
        "colab_type": "code",
        "colab": {}
      },
      "source": [
        "ann.add(tf.keras.layers.Dense(units=6,activation='relu'))\n"
      ],
      "execution_count": 19,
      "outputs": []
    },
    {
      "cell_type": "markdown",
      "metadata": {
        "id": "jwMOmKb3AdBY",
        "colab_type": "text"
      },
      "source": [
        "### Adding the output layer"
      ]
    },
    {
      "cell_type": "code",
      "metadata": {
        "id": "SAFotHdzhk-0",
        "colab_type": "code",
        "colab": {}
      },
      "source": [
        "ann.add(tf.keras.layers.Dense(units=1))"
      ],
      "execution_count": 20,
      "outputs": []
    },
    {
      "cell_type": "markdown",
      "metadata": {
        "id": "fq7e4fF6A1yy",
        "colab_type": "text"
      },
      "source": [
        "## Part 3 - Training the ANN"
      ]
    },
    {
      "cell_type": "markdown",
      "metadata": {
        "id": "qDeylAs2An25",
        "colab_type": "text"
      },
      "source": [
        "### Compiling the ANN"
      ]
    },
    {
      "cell_type": "code",
      "metadata": {
        "id": "RkDHExZXh1vf",
        "colab_type": "code",
        "colab": {}
      },
      "source": [
        "ann.compile(optimizer = 'adam',loss = 'mean_squared_error')"
      ],
      "execution_count": 21,
      "outputs": []
    },
    {
      "cell_type": "markdown",
      "metadata": {
        "id": "YjVuiybYOo7r",
        "colab_type": "text"
      },
      "source": [
        "### Training the ANN model on the Training set"
      ]
    },
    {
      "cell_type": "code",
      "metadata": {
        "id": "GibfUnQ0iD64",
        "colab_type": "code",
        "colab": {
          "base_uri": "https://localhost:8080/",
          "height": 1000
        },
        "outputId": "858bd56e-7c19-416a-a382-55abb65c398c"
      },
      "source": [
        "ann.fit(X_train,y_train,batch_size = 32,epochs = 100)"
      ],
      "execution_count": 22,
      "outputs": [
        {
          "output_type": "stream",
          "text": [
            "Epoch 1/100\n",
            "240/240 [==============================] - 0s 833us/step - loss: 11495.3643\n",
            "Epoch 2/100\n",
            "240/240 [==============================] - 0s 915us/step - loss: 430.0106\n",
            "Epoch 3/100\n",
            "240/240 [==============================] - 0s 866us/step - loss: 289.7906\n",
            "Epoch 4/100\n",
            "240/240 [==============================] - 0s 826us/step - loss: 187.4627\n",
            "Epoch 5/100\n",
            "240/240 [==============================] - 0s 862us/step - loss: 128.7499\n",
            "Epoch 6/100\n",
            "240/240 [==============================] - 0s 870us/step - loss: 93.6679\n",
            "Epoch 7/100\n",
            "240/240 [==============================] - 0s 932us/step - loss: 71.9411\n",
            "Epoch 8/100\n",
            "240/240 [==============================] - 0s 857us/step - loss: 57.6231\n",
            "Epoch 9/100\n",
            "240/240 [==============================] - 0s 870us/step - loss: 48.5257\n",
            "Epoch 10/100\n",
            "240/240 [==============================] - 0s 880us/step - loss: 41.6609\n",
            "Epoch 11/100\n",
            "240/240 [==============================] - 0s 967us/step - loss: 36.4910\n",
            "Epoch 12/100\n",
            "240/240 [==============================] - 0s 925us/step - loss: 33.4384\n",
            "Epoch 13/100\n",
            "240/240 [==============================] - 0s 851us/step - loss: 31.1389\n",
            "Epoch 14/100\n",
            "240/240 [==============================] - 0s 837us/step - loss: 29.8112\n",
            "Epoch 15/100\n",
            "240/240 [==============================] - 0s 843us/step - loss: 28.7367\n",
            "Epoch 16/100\n",
            "240/240 [==============================] - 0s 895us/step - loss: 28.0952\n",
            "Epoch 17/100\n",
            "240/240 [==============================] - 0s 919us/step - loss: 27.9421\n",
            "Epoch 18/100\n",
            "240/240 [==============================] - 0s 911us/step - loss: 27.1851\n",
            "Epoch 19/100\n",
            "240/240 [==============================] - 0s 875us/step - loss: 27.1526\n",
            "Epoch 20/100\n",
            "240/240 [==============================] - 0s 923us/step - loss: 26.8886\n",
            "Epoch 21/100\n",
            "240/240 [==============================] - 0s 908us/step - loss: 26.7136\n",
            "Epoch 22/100\n",
            "240/240 [==============================] - 0s 862us/step - loss: 26.2881\n",
            "Epoch 23/100\n",
            "240/240 [==============================] - 0s 932us/step - loss: 26.0136\n",
            "Epoch 24/100\n",
            "240/240 [==============================] - 0s 887us/step - loss: 25.7754\n",
            "Epoch 25/100\n",
            "240/240 [==============================] - 0s 978us/step - loss: 25.6405\n",
            "Epoch 26/100\n",
            "240/240 [==============================] - 0s 894us/step - loss: 25.3786\n",
            "Epoch 27/100\n",
            "240/240 [==============================] - 0s 937us/step - loss: 25.8808\n",
            "Epoch 28/100\n",
            "240/240 [==============================] - 0s 846us/step - loss: 25.7437\n",
            "Epoch 29/100\n",
            "240/240 [==============================] - 0s 954us/step - loss: 25.7020\n",
            "Epoch 30/100\n",
            "240/240 [==============================] - 0s 876us/step - loss: 25.9603\n",
            "Epoch 31/100\n",
            "240/240 [==============================] - 0s 876us/step - loss: 25.5861\n",
            "Epoch 32/100\n",
            "240/240 [==============================] - 0s 875us/step - loss: 25.7572\n",
            "Epoch 33/100\n",
            "240/240 [==============================] - 0s 887us/step - loss: 25.2337\n",
            "Epoch 34/100\n",
            "240/240 [==============================] - 0s 927us/step - loss: 25.8711\n",
            "Epoch 35/100\n",
            "240/240 [==============================] - 0s 946us/step - loss: 26.2745\n",
            "Epoch 36/100\n",
            "240/240 [==============================] - 0s 921us/step - loss: 26.1642\n",
            "Epoch 37/100\n",
            "240/240 [==============================] - 0s 900us/step - loss: 25.8241\n",
            "Epoch 38/100\n",
            "240/240 [==============================] - 0s 941us/step - loss: 25.6225\n",
            "Epoch 39/100\n",
            "240/240 [==============================] - 0s 925us/step - loss: 25.9747\n",
            "Epoch 40/100\n",
            "240/240 [==============================] - 0s 952us/step - loss: 26.1567\n",
            "Epoch 41/100\n",
            "240/240 [==============================] - 0s 1ms/step - loss: 25.7121\n",
            "Epoch 42/100\n",
            "240/240 [==============================] - 0s 1ms/step - loss: 25.4687\n",
            "Epoch 43/100\n",
            "240/240 [==============================] - 0s 1ms/step - loss: 25.8334\n",
            "Epoch 44/100\n",
            "240/240 [==============================] - 0s 1ms/step - loss: 25.6151\n",
            "Epoch 45/100\n",
            "240/240 [==============================] - 0s 1ms/step - loss: 25.2308\n",
            "Epoch 46/100\n",
            "240/240 [==============================] - 0s 1ms/step - loss: 25.3584\n",
            "Epoch 47/100\n",
            "240/240 [==============================] - 0s 1ms/step - loss: 27.7239\n",
            "Epoch 48/100\n",
            "240/240 [==============================] - 0s 1ms/step - loss: 25.1687\n",
            "Epoch 49/100\n",
            "240/240 [==============================] - 0s 1ms/step - loss: 25.2254\n",
            "Epoch 50/100\n",
            "240/240 [==============================] - 0s 1ms/step - loss: 25.7931\n",
            "Epoch 51/100\n",
            "240/240 [==============================] - 0s 1ms/step - loss: 25.2931\n",
            "Epoch 52/100\n",
            "240/240 [==============================] - 0s 1ms/step - loss: 25.9887\n",
            "Epoch 53/100\n",
            "240/240 [==============================] - 0s 1ms/step - loss: 25.2686\n",
            "Epoch 54/100\n",
            "240/240 [==============================] - 0s 1ms/step - loss: 25.5151\n",
            "Epoch 55/100\n",
            "240/240 [==============================] - 0s 1ms/step - loss: 25.2386\n",
            "Epoch 56/100\n",
            "240/240 [==============================] - 0s 1ms/step - loss: 25.0765\n",
            "Epoch 57/100\n",
            "240/240 [==============================] - 0s 1ms/step - loss: 25.4797\n",
            "Epoch 58/100\n",
            "240/240 [==============================] - 0s 1ms/step - loss: 25.1230\n",
            "Epoch 59/100\n",
            "240/240 [==============================] - 0s 1ms/step - loss: 25.9750\n",
            "Epoch 60/100\n",
            "240/240 [==============================] - 0s 1ms/step - loss: 25.5335\n",
            "Epoch 61/100\n",
            "240/240 [==============================] - 0s 1ms/step - loss: 25.6879\n",
            "Epoch 62/100\n",
            "240/240 [==============================] - 0s 1ms/step - loss: 25.4381\n",
            "Epoch 63/100\n",
            "240/240 [==============================] - 0s 1ms/step - loss: 25.1826\n",
            "Epoch 64/100\n",
            "240/240 [==============================] - 0s 1ms/step - loss: 25.0872\n",
            "Epoch 65/100\n",
            "240/240 [==============================] - 0s 1ms/step - loss: 25.1324\n",
            "Epoch 66/100\n",
            "240/240 [==============================] - 0s 1ms/step - loss: 25.2052\n",
            "Epoch 67/100\n",
            "240/240 [==============================] - 0s 1ms/step - loss: 26.5881\n",
            "Epoch 68/100\n",
            "240/240 [==============================] - 0s 1ms/step - loss: 25.3027\n",
            "Epoch 69/100\n",
            "240/240 [==============================] - 0s 1ms/step - loss: 25.3093\n",
            "Epoch 70/100\n",
            "240/240 [==============================] - 0s 1ms/step - loss: 25.1123\n",
            "Epoch 71/100\n",
            "240/240 [==============================] - 0s 1ms/step - loss: 25.1686\n",
            "Epoch 72/100\n",
            "240/240 [==============================] - 0s 2ms/step - loss: 24.8732\n",
            "Epoch 73/100\n",
            "240/240 [==============================] - 0s 1ms/step - loss: 25.1248\n",
            "Epoch 74/100\n",
            "240/240 [==============================] - 0s 1ms/step - loss: 25.6562\n",
            "Epoch 75/100\n",
            "240/240 [==============================] - 0s 1ms/step - loss: 25.1587\n",
            "Epoch 76/100\n",
            "240/240 [==============================] - 0s 1ms/step - loss: 25.4328\n",
            "Epoch 77/100\n",
            "240/240 [==============================] - 0s 911us/step - loss: 25.0214\n",
            "Epoch 78/100\n",
            "240/240 [==============================] - 0s 853us/step - loss: 24.8940\n",
            "Epoch 79/100\n",
            "240/240 [==============================] - 0s 919us/step - loss: 24.8382\n",
            "Epoch 80/100\n",
            "240/240 [==============================] - 0s 920us/step - loss: 25.1480\n",
            "Epoch 81/100\n",
            "240/240 [==============================] - 0s 981us/step - loss: 25.6300\n",
            "Epoch 82/100\n",
            "240/240 [==============================] - 0s 914us/step - loss: 24.9888\n",
            "Epoch 83/100\n",
            "240/240 [==============================] - 0s 919us/step - loss: 25.2981\n",
            "Epoch 84/100\n",
            "240/240 [==============================] - 0s 911us/step - loss: 25.2949\n",
            "Epoch 85/100\n",
            "240/240 [==============================] - 0s 836us/step - loss: 24.9115\n",
            "Epoch 86/100\n",
            "240/240 [==============================] - 0s 902us/step - loss: 25.6839\n",
            "Epoch 87/100\n",
            "240/240 [==============================] - 0s 847us/step - loss: 24.8566\n",
            "Epoch 88/100\n",
            "240/240 [==============================] - 0s 830us/step - loss: 25.5237\n",
            "Epoch 89/100\n",
            "240/240 [==============================] - 0s 878us/step - loss: 24.8638\n",
            "Epoch 90/100\n",
            "240/240 [==============================] - 0s 875us/step - loss: 25.1190\n",
            "Epoch 91/100\n",
            "240/240 [==============================] - 0s 901us/step - loss: 25.1091\n",
            "Epoch 92/100\n",
            "240/240 [==============================] - 0s 884us/step - loss: 25.3569\n",
            "Epoch 93/100\n",
            "240/240 [==============================] - 0s 850us/step - loss: 24.9174\n",
            "Epoch 94/100\n",
            "240/240 [==============================] - 0s 896us/step - loss: 25.3638\n",
            "Epoch 95/100\n",
            "240/240 [==============================] - 0s 895us/step - loss: 25.7344\n",
            "Epoch 96/100\n",
            "240/240 [==============================] - 0s 924us/step - loss: 25.0966\n",
            "Epoch 97/100\n",
            "240/240 [==============================] - 0s 845us/step - loss: 24.9672\n",
            "Epoch 98/100\n",
            "240/240 [==============================] - 0s 891us/step - loss: 25.3464\n",
            "Epoch 99/100\n",
            "240/240 [==============================] - 0s 886us/step - loss: 25.3514\n",
            "Epoch 100/100\n",
            "240/240 [==============================] - 0s 889us/step - loss: 24.7693\n"
          ],
          "name": "stdout"
        },
        {
          "output_type": "execute_result",
          "data": {
            "text/plain": [
              "<tensorflow.python.keras.callbacks.History at 0x7f45932cb898>"
            ]
          },
          "metadata": {
            "tags": []
          },
          "execution_count": 22
        }
      ]
    },
    {
      "cell_type": "markdown",
      "metadata": {
        "id": "0H0zKKNEBLD5",
        "colab_type": "text"
      },
      "source": [
        "### Predicting the results of the Test set\n",
        "\n",
        "vertical concatenation = 1\n",
        "horizontal = 0"
      ]
    },
    {
      "cell_type": "code",
      "metadata": {
        "id": "7iEQFiOpiO5T",
        "colab_type": "code",
        "colab": {
          "base_uri": "https://localhost:8080/",
          "height": 136
        },
        "outputId": "86964314-1a07-4ac5-e244-01dad3479a90"
      },
      "source": [
        "y_pred = ann.predict(X_test)\n",
        "np.set_printoptions(precision=2)\n",
        "print(np.concatenate((y_pred.reshape(len(y_pred),1),y_test.reshape(len(y_test),1)),1))"
      ],
      "execution_count": 23,
      "outputs": [
        {
          "output_type": "stream",
          "text": [
            "[[435.31 431.23]\n",
            " [461.4  460.01]\n",
            " [465.44 461.14]\n",
            " ...\n",
            " [472.57 473.26]\n",
            " [438.1  438.  ]\n",
            " [458.26 463.28]]\n"
          ],
          "name": "stdout"
        }
      ]
    }
  ]
}