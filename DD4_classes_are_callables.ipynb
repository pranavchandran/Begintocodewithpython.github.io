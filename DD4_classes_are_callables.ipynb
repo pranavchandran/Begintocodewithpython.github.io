{
  "nbformat": 4,
  "nbformat_minor": 0,
  "metadata": {
    "colab": {
      "name": "DD4 classes are callables.ipynb",
      "provenance": [],
      "collapsed_sections": [],
      "authorship_tag": "ABX9TyMA+buBNYxWBtYuQ6OtaAMn",
      "include_colab_link": true
    },
    "kernelspec": {
      "name": "python3",
      "display_name": "Python 3"
    }
  },
  "cells": [
    {
      "cell_type": "markdown",
      "metadata": {
        "id": "view-in-github",
        "colab_type": "text"
      },
      "source": [
        "<a href=\"https://colab.research.google.com/github/pranavchandran/Begintocodewithpython.github.io/blob/master/DD4_classes_are_callables.ipynb\" target=\"_parent\"><img src=\"https://colab.research.google.com/assets/colab-badge.svg\" alt=\"Open In Colab\"/></a>"
      ]
    },
    {
      "cell_type": "code",
      "metadata": {
        "id": "_gLm554xHO_P",
        "colab_type": "code",
        "colab": {}
      },
      "source": [
        "class Program:\n",
        "  language = 'python'\n",
        "\n",
        "  def say_hello():\n",
        "    print(f'Hello from {Program.language}')"
      ],
      "execution_count": null,
      "outputs": []
    },
    {
      "cell_type": "code",
      "metadata": {
        "id": "4rYe4i50HiFZ",
        "colab_type": "code",
        "colab": {
          "base_uri": "https://localhost:8080/",
          "height": 34
        },
        "outputId": "da68f875-ebd6-4bff-823d-f8af3086f3bc"
      },
      "source": [
        "  getattr(Program,'say_hello')()"
      ],
      "execution_count": null,
      "outputs": [
        {
          "output_type": "stream",
          "text": [
            "Hello from python\n"
          ],
          "name": "stdout"
        }
      ]
    },
    {
      "cell_type": "markdown",
      "metadata": {
        "id": "vxVk9WZzMLKk",
        "colab_type": "text"
      },
      "source": [
        "**Classes are Callables**"
      ]
    },
    {
      "cell_type": "code",
      "metadata": {
        "id": "pesvQNKNMcm6",
        "colab_type": "code",
        "colab": {}
      },
      "source": [
        "class Program:\n",
        "    language = 'Python'\n",
        "\n",
        "    def say_hello():\n",
        "        print(f'Hello from {Program.language}')"
      ],
      "execution_count": null,
      "outputs": []
    },
    {
      "cell_type": "code",
      "metadata": {
        "id": "AraQXAlIMhVP",
        "colab_type": "code",
        "colab": {
          "base_uri": "https://localhost:8080/",
          "height": 34
        },
        "outputId": "228ffe3c-8968-4c18-98a9-6008738d7004"
      },
      "source": [
        "p = Program()\n",
        "type(p)"
      ],
      "execution_count": null,
      "outputs": [
        {
          "output_type": "execute_result",
          "data": {
            "text/plain": [
              "__main__.Program"
            ]
          },
          "metadata": {
            "tags": []
          },
          "execution_count": 3
        }
      ]
    },
    {
      "cell_type": "code",
      "metadata": {
        "id": "U_2-8eCnMm10",
        "colab_type": "code",
        "colab": {
          "base_uri": "https://localhost:8080/",
          "height": 34
        },
        "outputId": "d9148a24-2ff1-4d37-b16a-41e8dd7252af"
      },
      "source": [
        "isinstance(p,Program)"
      ],
      "execution_count": null,
      "outputs": [
        {
          "output_type": "execute_result",
          "data": {
            "text/plain": [
              "True"
            ]
          },
          "metadata": {
            "tags": []
          },
          "execution_count": 4
        }
      ]
    },
    {
      "cell_type": "code",
      "metadata": {
        "id": "5su-uqPxMvhz",
        "colab_type": "code",
        "colab": {
          "base_uri": "https://localhost:8080/",
          "height": 34
        },
        "outputId": "5f3b269d-3dcb-48c8-b86c-ba34f49e6ced"
      },
      "source": [
        "p.__dict__"
      ],
      "execution_count": null,
      "outputs": [
        {
          "output_type": "execute_result",
          "data": {
            "text/plain": [
              "{}"
            ]
          },
          "metadata": {
            "tags": []
          },
          "execution_count": 5
        }
      ]
    },
    {
      "cell_type": "code",
      "metadata": {
        "id": "MeftkvFXM63B",
        "colab_type": "code",
        "colab": {
          "base_uri": "https://localhost:8080/",
          "height": 121
        },
        "outputId": "989b7525-0b42-42cd-c8a5-1b03dfb6793d"
      },
      "source": [
        "Program.__dict__"
      ],
      "execution_count": null,
      "outputs": [
        {
          "output_type": "execute_result",
          "data": {
            "text/plain": [
              "mappingproxy({'__dict__': <attribute '__dict__' of 'Program' objects>,\n",
              "              '__doc__': None,\n",
              "              '__module__': '__main__',\n",
              "              '__weakref__': <attribute '__weakref__' of 'Program' objects>,\n",
              "              'language': 'python',\n",
              "              'say_hello': <function __main__.Program.say_hello>})"
            ]
          },
          "metadata": {
            "tags": []
          },
          "execution_count": 6
        }
      ]
    },
    {
      "cell_type": "code",
      "metadata": {
        "id": "Gi_z_QwONNWn",
        "colab_type": "code",
        "colab": {
          "base_uri": "https://localhost:8080/",
          "height": 34
        },
        "outputId": "50733b2e-3ad5-4f50-a36b-904accde4557"
      },
      "source": [
        "p.__class__"
      ],
      "execution_count": null,
      "outputs": [
        {
          "output_type": "execute_result",
          "data": {
            "text/plain": [
              "__main__.Program"
            ]
          },
          "metadata": {
            "tags": []
          },
          "execution_count": 7
        }
      ]
    },
    {
      "cell_type": "code",
      "metadata": {
        "id": "l531zryvNZII",
        "colab_type": "code",
        "colab": {
          "base_uri": "https://localhost:8080/",
          "height": 34
        },
        "outputId": "06e1a1ca-1945-475c-f5fb-dc4392a8f302"
      },
      "source": [
        "type(p) is p.__class__"
      ],
      "execution_count": null,
      "outputs": [
        {
          "output_type": "execute_result",
          "data": {
            "text/plain": [
              "True"
            ]
          },
          "metadata": {
            "tags": []
          },
          "execution_count": 9
        }
      ]
    },
    {
      "cell_type": "code",
      "metadata": {
        "id": "Dua-oFNDNvtT",
        "colab_type": "code",
        "colab": {
          "base_uri": "https://localhost:8080/",
          "height": 34
        },
        "outputId": "bd50a328-bc02-49ed-9f30-1cb9ac004311"
      },
      "source": [
        "class MyClass:\n",
        "  pass\n",
        "m = MyClass()\n",
        "type(m),m.__class__"
      ],
      "execution_count": null,
      "outputs": [
        {
          "output_type": "execute_result",
          "data": {
            "text/plain": [
              "(__main__.MyClass, __main__.MyClass)"
            ]
          },
          "metadata": {
            "tags": []
          },
          "execution_count": 12
        }
      ]
    },
    {
      "cell_type": "code",
      "metadata": {
        "id": "ME0MnPU8ObL3",
        "colab_type": "code",
        "colab": {
          "base_uri": "https://localhost:8080/",
          "height": 34
        },
        "outputId": "2e3c4189-d516-46af-dc43-c49549160978"
      },
      "source": [
        "class MyClass:\n",
        "  __class__ = str\n",
        "\n",
        "m = MyClass()\n",
        "m.__class__,type(m)"
      ],
      "execution_count": null,
      "outputs": [
        {
          "output_type": "execute_result",
          "data": {
            "text/plain": [
              "(str, __main__.MyClass)"
            ]
          },
          "metadata": {
            "tags": []
          },
          "execution_count": 13
        }
      ]
    },
    {
      "cell_type": "code",
      "metadata": {
        "id": "H_cBs6FlOwOf",
        "colab_type": "code",
        "colab": {
          "base_uri": "https://localhost:8080/",
          "height": 34
        },
        "outputId": "32492c01-4e52-471f-d321-0fc1adca354e"
      },
      "source": [
        "isinstance(m,MyClass)"
      ],
      "execution_count": null,
      "outputs": [
        {
          "output_type": "execute_result",
          "data": {
            "text/plain": [
              "True"
            ]
          },
          "metadata": {
            "tags": []
          },
          "execution_count": 14
        }
      ]
    },
    {
      "cell_type": "code",
      "metadata": {
        "id": "pErPWUTxO8Ar",
        "colab_type": "code",
        "colab": {
          "base_uri": "https://localhost:8080/",
          "height": 34
        },
        "outputId": "708cb61c-ac28-4721-e3c7-06fa4d6ef28d"
      },
      "source": [
        "isinstance(m,str)"
      ],
      "execution_count": null,
      "outputs": [
        {
          "output_type": "execute_result",
          "data": {
            "text/plain": [
              "True"
            ]
          },
          "metadata": {
            "tags": []
          },
          "execution_count": 15
        }
      ]
    },
    {
      "cell_type": "code",
      "metadata": {
        "id": "BrG0j0ocPCNX",
        "colab_type": "code",
        "colab": {
          "base_uri": "https://localhost:8080/",
          "height": 34
        },
        "outputId": "3a6ba75d-867f-44ef-bf85-cde8d1a42bdb"
      },
      "source": [
        "isinstance(m,int)"
      ],
      "execution_count": null,
      "outputs": [
        {
          "output_type": "execute_result",
          "data": {
            "text/plain": [
              "False"
            ]
          },
          "metadata": {
            "tags": []
          },
          "execution_count": 16
        }
      ]
    },
    {
      "cell_type": "code",
      "metadata": {
        "id": "TfUjBWyYPJHo",
        "colab_type": "code",
        "colab": {
          "base_uri": "https://localhost:8080/",
          "height": 34
        },
        "outputId": "80ba7c04-ed92-4e55-cd32-f6b260b6ea15"
      },
      "source": [
        "class MyClass:\n",
        "  pass\n",
        "\n",
        "m = MyClass()\n",
        "isinstance(m,str)"
      ],
      "execution_count": null,
      "outputs": [
        {
          "output_type": "execute_result",
          "data": {
            "text/plain": [
              "False"
            ]
          },
          "metadata": {
            "tags": []
          },
          "execution_count": 17
        }
      ]
    },
    {
      "cell_type": "code",
      "metadata": {
        "id": "CwEMi-ySPdp7",
        "colab_type": "code",
        "colab": {
          "base_uri": "https://localhost:8080/",
          "height": 34
        },
        "outputId": "f88c4de7-3bc7-4d46-8fd5-81ded6dc7e69"
      },
      "source": [
        "print(type(m))"
      ],
      "execution_count": null,
      "outputs": [
        {
          "output_type": "stream",
          "text": [
            "<class '__main__.MyClass'>\n"
          ],
          "name": "stdout"
        }
      ]
    }
  ]
}